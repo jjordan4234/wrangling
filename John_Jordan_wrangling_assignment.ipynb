{
 "cells": [
  {
   "cell_type": "markdown",
   "id": "13ad028b-72b7-43ed-aa78-96fd4e518040",
   "metadata": {
    "id": "13ad028b-72b7-43ed-aa78-96fd4e518040"
   },
   "source": [
    "# Assignment: Data Wrangling\n",
    "## `! git clone https://github.com/DS3001/wrangling`\n",
    "## Do Q2, and one of Q1 or Q3."
   ]
  },
  {
   "cell_type": "code",
   "execution_count": 1,
   "id": "c7454147",
   "metadata": {},
   "outputs": [
    {
     "name": "stdout",
     "output_type": "stream",
     "text": [
      "Cloning into 'wrangling'...\n",
      "remote: Enumerating objects: 92, done.\u001b[K\n",
      "remote: Counting objects: 100% (49/49), done.\u001b[K\n",
      "remote: Compressing objects: 100% (35/35), done.\u001b[K\n",
      "remote: Total 92 (delta 36), reused 17 (delta 14), pack-reused 43 (from 1)\u001b[K\n",
      "Unpacking objects: 100% (92/92), done.\n"
     ]
    }
   ],
   "source": [
    "! git clone https://github.com/DS3001/wrangling"
   ]
  },
  {
   "cell_type": "code",
   "execution_count": 2,
   "id": "e2599e66",
   "metadata": {},
   "outputs": [],
   "source": [
    "import pandas as pd"
   ]
  },
  {
   "cell_type": "code",
   "execution_count": 8,
   "id": "ee80f175",
   "metadata": {},
   "outputs": [
    {
     "name": "stdout",
     "output_type": "stream",
     "text": [
      "NA_codes.jpg      bondType.png      plane.png         timespent.jpg\r\n",
      "\u001b[34massignment\u001b[m\u001b[m        \u001b[34mdata\u001b[m\u001b[m              pretrial_data.csv wrangling.ipynb\r\n"
     ]
    }
   ],
   "source": [
    "! ls wrangling"
   ]
  },
  {
   "cell_type": "code",
   "execution_count": 83,
   "id": "c54c7fab",
   "metadata": {},
   "outputs": [
    {
     "name": "stdout",
     "output_type": "stream",
     "text": [
      "NA_codes.jpg      bondType.png      plane.png         timespent.jpg\r\n",
      "\u001b[34massignment\u001b[m\u001b[m        \u001b[34mdata\u001b[m\u001b[m              pretrial_data.csv wrangling.ipynb\r\n"
     ]
    }
   ],
   "source": [
    "! ls wrangling"
   ]
  },
  {
   "cell_type": "markdown",
   "id": "5735a4d4-8be8-433a-a351-70eb8002e632",
   "metadata": {
    "id": "5735a4d4-8be8-433a-a351-70eb8002e632"
   },
   "source": [
    "**Q1.** Open the \"tidy_data.pdf\" document in the repo, which is a paper called Tidy Data by Hadley Wickham.\n",
    "\n",
    "  1. Read the abstract. What is this paper about?\n",
    "  2. Read the introduction. What is the \"tidy data standard\" intended to accomplish?\n",
    "  3. Read the intro to section 2. What does this sentence mean: \"Like families, tidy datasets are all alike but every messy dataset is messy in its own way.\" What does this sentence mean: \"For a given dataset, it’s usually easy to figure out what are observations and what are variables, but it is surprisingly difficult to precisely define variables and observations in general.\"\n",
    "  4. Read Section 2.2. How does Wickham define values, variables, and observations?\n",
    "  5. How is \"Tidy Data\" defined in section 2.3?\n",
    "  6. Read the intro to Section 3 and Section 3.1. What are the 5 most common problems with messy datasets? Why are the data in Table 4 messy? What is \"melting\" a dataset?\n",
    "  7. Why, specifically, is table 11 messy but table 12 tidy and \"molten\"?\n",
    "  8. Read Section 6. What is the \"chicken-and-egg\" problem with focusing on tidy data? What does Wickham hope happens in the future with further work on the subject of data wrangling?"
   ]
  },
  {
   "cell_type": "markdown",
   "id": "da879ea7-8aac-48a3-b6c2-daea56d2e072",
   "metadata": {
    "id": "da879ea7-8aac-48a3-b6c2-daea56d2e072"
   },
   "source": [
    "**Q2.** This question provides some practice cleaning variables which have common problems.\n",
    "1. Numeric variable: For `./data/airbnb_hw.csv`, clean the `Price` variable as well as you can, and explain the choices you make. How many missing values do you end up with? (Hint: What happens to the formatting when a price goes over 999 dollars, say from 675 to 1,112?)\n",
    "2. Categorical variable: For the `./data/sharks.csv` data covered in the lecture, clean the \"Type\" variable as well as you can, and explain the choices you make.\n",
    "3. Dummy variable: For the pretrial data covered in the lecture, clean the `WhetherDefendantWasReleasedPretrial` variable as well as you can, and, in particular, replace missing values with `np.nan`.\n",
    "4. Missing values, not at random: For the pretrial data covered in the lecture, clean the `ImposedSentenceAllChargeInContactEvent` variable as well as you can, and explain the choices you make. (Hint: Look at the `SentenceTypeAllChargesAtConvictionInContactEvent` variable.)"
   ]
  },
  {
   "cell_type": "markdown",
   "id": "4a2ac1d4",
   "metadata": {},
   "source": [
    "***1.) Clean the Price Variable(Numeric)***"
   ]
  },
  {
   "cell_type": "code",
   "execution_count": 101,
   "id": "4dac3eea",
   "metadata": {},
   "outputs": [
    {
     "name": "stdout",
     "output_type": "stream",
     "text": [
      "0        145\n",
      "1         37\n",
      "2         28\n",
      "3        199\n",
      "4        549\n",
      "        ... \n",
      "30473    300\n",
      "30474    125\n",
      "30475     80\n",
      "30476     35\n",
      "30477     80\n",
      "Name: Price, Length: 30478, dtype: int64\n"
     ]
    }
   ],
   "source": [
    "# thousands = \",\" command tells it to report anything with a comma as just the numbers --> ex.) 1,234 --> 1234\n",
    "df_air = pd.read_csv('./wrangling/assignment/data/airbnb_hw.csv', thousands=\",\")\n",
    "print(df_air['Price'])"
   ]
  },
  {
   "cell_type": "code",
   "execution_count": 102,
   "id": "21205d42",
   "metadata": {},
   "outputs": [
    {
     "name": "stdout",
     "output_type": "stream",
     "text": [
      "0        145\n",
      "1         37\n",
      "2         28\n",
      "3        199\n",
      "4        549\n",
      "        ... \n",
      "30473    300\n",
      "30474    125\n",
      "30475     80\n",
      "30476     35\n",
      "30477     80\n",
      "Name: Price, Length: 30478, dtype: int64\n"
     ]
    }
   ],
   "source": [
    "# Convert the Price column from a series of strings to ints\n",
    "df_air['Price'] = df_air['Price'].apply(lambda x: int(x))\n",
    "print(df_air['Price'])"
   ]
  },
  {
   "cell_type": "code",
   "execution_count": 103,
   "id": "696a0e05",
   "metadata": {},
   "outputs": [
    {
     "name": "stdout",
     "output_type": "stream",
     "text": [
      "1990\n",
      "1000\n",
      "1200\n",
      "1000\n",
      "5000\n",
      "3000\n",
      "1500\n",
      "1200\n",
      "1800\n",
      "1300\n",
      "1000\n",
      "1239\n",
      "5999\n",
      "1500\n",
      "1300\n",
      "1500\n",
      "2750\n",
      "4750\n",
      "1000\n",
      "8000\n",
      "4500\n",
      "1000\n",
      "1000\n",
      "2500\n",
      "1000\n",
      "1000\n",
      "3750\n",
      "1000\n",
      "1500\n",
      "1000\n",
      "1000\n",
      "1500\n",
      "1000\n",
      "2000\n",
      "1000\n",
      "1500\n",
      "1750\n",
      "1000\n",
      "1500\n",
      "1495\n",
      "1700\n",
      "1000\n",
      "5000\n",
      "1999\n",
      "1000\n",
      "1170\n",
      "1100\n",
      "3000\n",
      "1000\n",
      "1111\n",
      "1000\n",
      "1000\n",
      "1174\n",
      "4000\n",
      "1100\n",
      "1000\n",
      "2500\n",
      "1000\n",
      "1500\n",
      "1400\n",
      "2520\n",
      "1000\n",
      "1000\n",
      "1500\n",
      "1000\n",
      "1200\n",
      "1600\n",
      "1000\n",
      "2695\n",
      "1300\n",
      "1000\n",
      "2295\n",
      "1065\n",
      "2000\n",
      "3000\n",
      "2000\n",
      "2000\n",
      "1500\n",
      "1200\n",
      "5000\n",
      "1368\n",
      "1000\n",
      "1500\n",
      "1000\n",
      "1500\n",
      "1000\n",
      "1000\n",
      "1250\n",
      "1350\n",
      "2000\n",
      "1200\n",
      "1500\n",
      "1250\n",
      "1200\n",
      "1000\n",
      "1800\n",
      "4000\n",
      "4000\n",
      "3000\n",
      "4500\n",
      "3200\n",
      "2000\n",
      "1000\n",
      "2000\n",
      "1500\n",
      "1000\n",
      "1500\n",
      "2500\n",
      "1100\n",
      "1000\n",
      "1050\n",
      "1650\n",
      "1000\n",
      "1200\n",
      "1000\n",
      "1500\n",
      "1500\n",
      "1500\n",
      "1000\n",
      "1550\n",
      "1200\n",
      "2500\n",
      "1250\n",
      "1000\n",
      "3000\n",
      "1000\n",
      "1000\n",
      "1250\n",
      "2500\n",
      "2000\n",
      "6500\n",
      "2750\n",
      "1500\n",
      "2000\n",
      "2499\n",
      "1600\n",
      "1500\n",
      "1000\n",
      "1400\n",
      "1500\n",
      "1000\n",
      "1850\n",
      "2250\n",
      "2500\n",
      "2500\n",
      "1100\n",
      "1900\n",
      "1750\n",
      "1000\n",
      "1500\n",
      "1000\n",
      "1350\n",
      "1500\n",
      "2500\n",
      "1200\n",
      "1499\n",
      "1050\n",
      "1200\n",
      "1750\n",
      "2000\n",
      "10000\n",
      "5000\n",
      "1600\n",
      "1500\n",
      "1000\n",
      "1195\n",
      "1500\n",
      "1500\n",
      "1000\n",
      "3500\n",
      "2500\n",
      "1700\n",
      "1050\n",
      "3100\n",
      "2486\n",
      "2486\n",
      "3390\n",
      "1356\n",
      "2599\n",
      "2000\n",
      "2000\n"
     ]
    }
   ],
   "source": [
    "#check to see if values appear\n",
    "for each in df_air['Price']:\n",
    "    if each > 999:\n",
    "        print(each)"
   ]
  },
  {
   "cell_type": "code",
   "execution_count": 104,
   "id": "0ed8be87",
   "metadata": {},
   "outputs": [
    {
     "name": "stdout",
     "output_type": "stream",
     "text": [
      "There are 0 null values in the Price column\n"
     ]
    }
   ],
   "source": [
    "#check for null values\n",
    "df_air['Price'].isnull()\n",
    "num_nulls_price = df_air['Price'].isnull().sum()\n",
    "print(f\"There are {num_nulls_price} null values in the Price column\")"
   ]
  },
  {
   "cell_type": "markdown",
   "id": "de82c843",
   "metadata": {},
   "source": [
    "***2.) Clean the Type Variable(Categorical)***"
   ]
  },
  {
   "cell_type": "code",
   "execution_count": 37,
   "id": "c8222076",
   "metadata": {},
   "outputs": [
    {
     "name": "stdout",
     "output_type": "stream",
     "text": [
      "0       Unprovoked\n",
      "1         Provoked\n",
      "2       Unprovoked\n",
      "3       Unprovoked\n",
      "4       Unprovoked\n",
      "           ...    \n",
      "6457    Unprovoked\n",
      "6458    Unprovoked\n",
      "6459    Unprovoked\n",
      "6460    Unprovoked\n",
      "6461    Unprovoked\n",
      "Name: Type, Length: 6462, dtype: object\n"
     ]
    }
   ],
   "source": [
    "df_sharks = pd.read_csv('./wrangling/data/sharks.csv', low_memory=False)\n",
    "print(df_sharks['Type'])"
   ]
  },
  {
   "cell_type": "code",
   "execution_count": 112,
   "id": "66992af9",
   "metadata": {},
   "outputs": [
    {
     "data": {
      "text/plain": [
       "<bound method IndexOpsMixin.tolist of Index(['index', 'Case Number', 'Date', 'Year', 'Type', 'Country', 'Area',\n",
       "       'Location', 'Activity', 'Name', 'Unnamed: 9', 'Age', 'Injury',\n",
       "       'Fatal (Y/N)', 'Time', 'Species ', 'Investigator or Source', 'pdf',\n",
       "       'href formula', 'href', 'Case Number.1', 'Case Number.2',\n",
       "       'original order', 'Unnamed: 22', 'Unnamed: 23', 'Unnamed: 24',\n",
       "       'Unnamed: 25', 'Unnamed: 26', 'Unnamed: 27', 'Unnamed: 28'],\n",
       "      dtype='object')>"
      ]
     },
     "execution_count": 112,
     "metadata": {},
     "output_type": "execute_result"
    }
   ],
   "source": [
    "df_sharks.columns[0:30].to_list"
   ]
  },
  {
   "cell_type": "code",
   "execution_count": 43,
   "id": "cf9fcf02",
   "metadata": {},
   "outputs": [
    {
     "data": {
      "text/plain": [
       "index            NaN\n",
       "Case Number     6442\n",
       "Date            5552\n",
       "Year             NaN\n",
       "Type              12\n",
       "                ... \n",
       "Unnamed: 251     NaN\n",
       "Unnamed: 252     NaN\n",
       "Unnamed: 253     NaN\n",
       "Unnamed: 254     NaN\n",
       "Unnamed: 255     NaN\n",
       "Name: unique, Length: 257, dtype: object"
      ]
     },
     "execution_count": 43,
     "metadata": {},
     "output_type": "execute_result"
    }
   ],
   "source": [
    "#check the number of unique values in each column\n",
    "df_sharks.describe(include='all').loc['unique', :]"
   ]
  },
  {
   "cell_type": "code",
   "execution_count": 108,
   "id": "686fe9d1",
   "metadata": {},
   "outputs": [
    {
     "data": {
      "text/plain": [
       "'\\nWatercraft, Boating, Boat, Boatomg, Sea Disaster --> Boat\\nUnconfirmed, Unverified, Invalid, Questionable, Under Investigation  --> nan\\n'"
      ]
     },
     "execution_count": 108,
     "metadata": {},
     "output_type": "execute_result"
    }
   ],
   "source": [
    "#print the 12 different unique values of Type\n",
    "df_sharks.Type.unique()"
   ]
  },
  {
   "cell_type": "code",
   "execution_count": 109,
   "id": "9e647172",
   "metadata": {},
   "outputs": [
    {
     "data": {
      "text/plain": [
       "Unprovoked    4716\n",
       "Provoked       593\n",
       "Watercraft     583\n",
       "Name: Type, dtype: int64"
      ]
     },
     "execution_count": 109,
     "metadata": {},
     "output_type": "execute_result"
    }
   ],
   "source": [
    "df_sharks['Type'] = df_sharks['Type'].replace(['Sea Disaster', 'Boat','Boating','Boatomg'],'Watercraft')\n",
    "df_sharks['Type'].value_counts()\n",
    "\n",
    "df_sharks['Type'] = df_sharks['Type'].replace(['Invalid', 'Questionable','Unconfirmed','Unverified','Under investigation'],np.nan)\n",
    "df_sharks['Type'].value_counts()"
   ]
  },
  {
   "cell_type": "code",
   "execution_count": 107,
   "id": "718ee450",
   "metadata": {},
   "outputs": [
    {
     "data": {
      "text/plain": [
       "Unprovoked             4716\n",
       "Provoked                593\n",
       "Invalid                 552\n",
       "Sea Disaster            239\n",
       "Watercraft              142\n",
       "Boat                    109\n",
       "Boating                  92\n",
       "Questionable             10\n",
       "Unverified                1\n",
       "Unconfirmed               1\n",
       "Boatomg                   1\n",
       "Under investigation       1\n",
       "Name: Type, dtype: int64"
      ]
     },
     "execution_count": 107,
     "metadata": {},
     "output_type": "execute_result"
    }
   ],
   "source": [
    "df_sharks['Type'].value_counts()"
   ]
  },
  {
   "cell_type": "code",
   "execution_count": 114,
   "id": "d4f9aade",
   "metadata": {},
   "outputs": [
    {
     "data": {
      "text/plain": [
       "0       N\n",
       "1       N\n",
       "2       N\n",
       "3       N\n",
       "4       N\n",
       "       ..\n",
       "6457    Y\n",
       "6458    Y\n",
       "6459    Y\n",
       "6460    Y\n",
       "6461    Y\n",
       "Name: Fatal (Y/N), Length: 6462, dtype: object"
      ]
     },
     "execution_count": 114,
     "metadata": {},
     "output_type": "execute_result"
    }
   ],
   "source": [
    "df_sharks['Fatal (Y/N)']"
   ]
  },
  {
   "cell_type": "code",
   "execution_count": 115,
   "id": "15c488eb",
   "metadata": {},
   "outputs": [
    {
     "data": {
      "text/html": [
       "<div>\n",
       "<style scoped>\n",
       "    .dataframe tbody tr th:only-of-type {\n",
       "        vertical-align: middle;\n",
       "    }\n",
       "\n",
       "    .dataframe tbody tr th {\n",
       "        vertical-align: top;\n",
       "    }\n",
       "\n",
       "    .dataframe thead th {\n",
       "        text-align: right;\n",
       "    }\n",
       "</style>\n",
       "<table border=\"1\" class=\"dataframe\">\n",
       "  <thead>\n",
       "    <tr style=\"text-align: right;\">\n",
       "      <th>Fatal (Y/N)</th>\n",
       "      <th>N</th>\n",
       "      <th>Y</th>\n",
       "    </tr>\n",
       "    <tr>\n",
       "      <th>Type</th>\n",
       "      <th></th>\n",
       "      <th></th>\n",
       "    </tr>\n",
       "  </thead>\n",
       "  <tbody>\n",
       "    <tr>\n",
       "      <th>Provoked</th>\n",
       "      <td>0.967521</td>\n",
       "      <td>0.032479</td>\n",
       "    </tr>\n",
       "    <tr>\n",
       "      <th>Unprovoked</th>\n",
       "      <td>0.743871</td>\n",
       "      <td>0.256129</td>\n",
       "    </tr>\n",
       "    <tr>\n",
       "      <th>Watercraft</th>\n",
       "      <td>0.684303</td>\n",
       "      <td>0.315697</td>\n",
       "    </tr>\n",
       "  </tbody>\n",
       "</table>\n",
       "</div>"
      ],
      "text/plain": [
       "Fatal (Y/N)         N         Y\n",
       "Type                           \n",
       "Provoked     0.967521  0.032479\n",
       "Unprovoked   0.743871  0.256129\n",
       "Watercraft   0.684303  0.315697"
      ]
     },
     "execution_count": 115,
     "metadata": {},
     "output_type": "execute_result"
    }
   ],
   "source": [
    "# This is interesting: Sharks are much more likely to kill you if the situation is UNprovoked. \n",
    "df_sharks['Fatal (Y/N)'] = df_sharks['Fatal (Y/N)'].replace(['UNKNOWN', 'F','M','2017'],np.nan) # All unclean values\n",
    "df_sharks['Fatal (Y/N)'] = df_sharks['Fatal (Y/N)'].replace('y','Y') # All unclean values\n",
    "pd.crosstab(df_sharks['Type'],df_sharks['Fatal (Y/N)'],normalize='index')"
   ]
  },
  {
   "cell_type": "markdown",
   "id": "7e2dcd85",
   "metadata": {},
   "source": [
    "***3.) Clean the WhetherDefendantWasReleasedPretrial Variable(Dummy)***"
   ]
  },
  {
   "cell_type": "code",
   "execution_count": 85,
   "id": "66c80606",
   "metadata": {},
   "outputs": [],
   "source": [
    "df_pretrial = pd.read_parquet('./wrangling/assignment/data/justice_data.parquet')"
   ]
  },
  {
   "cell_type": "code",
   "execution_count": 86,
   "id": "6670d47a",
   "metadata": {},
   "outputs": [
    {
     "data": {
      "text/html": [
       "<div>\n",
       "<style scoped>\n",
       "    .dataframe tbody tr th:only-of-type {\n",
       "        vertical-align: middle;\n",
       "    }\n",
       "\n",
       "    .dataframe tbody tr th {\n",
       "        vertical-align: top;\n",
       "    }\n",
       "\n",
       "    .dataframe thead th {\n",
       "        text-align: right;\n",
       "    }\n",
       "</style>\n",
       "<table border=\"1\" class=\"dataframe\">\n",
       "  <thead>\n",
       "    <tr style=\"text-align: right;\">\n",
       "      <th></th>\n",
       "      <th>Defendant_AgeGroup</th>\n",
       "      <th>Defendant_AttorneyTypeAtCaseClosure</th>\n",
       "      <th>Defendant_IndigencyStatus</th>\n",
       "      <th>WhetherDefendantWasReleasedPretrial</th>\n",
       "      <th>DaysBetweenContactEventAndPretrialRelease</th>\n",
       "      <th>PretrialReleaseType1</th>\n",
       "      <th>PretrialReleaseType2</th>\n",
       "      <th>BondTypeAtInitialContact</th>\n",
       "      <th>BondTypeAtRelease_v1</th>\n",
       "      <th>BondTypeatRelease_v2</th>\n",
       "      <th>...</th>\n",
       "      <th>NewPSAViolentMisdArrest_DaysBetweenOffDateandArrestDate</th>\n",
       "      <th>NewPSAViolentMisdArrest_DaysBetweenReleaseDateandOffDate</th>\n",
       "      <th>NewVaCode805ViolentOff_DaysBetweenOffDateandArrestDate</th>\n",
       "      <th>NewVaCode805ViolentOff_DaysBetweenReleaseDateandOffDate</th>\n",
       "      <th>NewVaCode297ViolentOff_DaysBetweenOffDateandArrestDate</th>\n",
       "      <th>NewVaCode297ViolentOff_DaysBetweenReleaseDateandOffDate</th>\n",
       "      <th>NewFelonySexualAssaultArrest_DaysBetweenOffDateandArrestDate</th>\n",
       "      <th>NewFelonySexualAssaultArrest_DaysBetweenReleaseDateandOffDate</th>\n",
       "      <th>Intertnalindicator_ReasonforExcludingFromFollowUpAnalysis</th>\n",
       "      <th>DispRecordFoundforChargesinOct2017Contact_Atleast1dispfound</th>\n",
       "    </tr>\n",
       "  </thead>\n",
       "  <tbody>\n",
       "    <tr>\n",
       "      <th>count</th>\n",
       "      <td>22986.000000</td>\n",
       "      <td>22986.000000</td>\n",
       "      <td>22986.000000</td>\n",
       "      <td>22986.000000</td>\n",
       "      <td>22986.000000</td>\n",
       "      <td>22986.000000</td>\n",
       "      <td>22986.000000</td>\n",
       "      <td>22986.000000</td>\n",
       "      <td>22986.000000</td>\n",
       "      <td>22986.000000</td>\n",
       "      <td>...</td>\n",
       "      <td>22986.000000</td>\n",
       "      <td>22986.000000</td>\n",
       "      <td>22986.000000</td>\n",
       "      <td>22986.000000</td>\n",
       "      <td>22986.000000</td>\n",
       "      <td>22986.000000</td>\n",
       "      <td>22986.000000</td>\n",
       "      <td>22986.000000</td>\n",
       "      <td>22986.000000</td>\n",
       "      <td>22986.000000</td>\n",
       "    </tr>\n",
       "    <tr>\n",
       "      <th>mean</th>\n",
       "      <td>3.391543</td>\n",
       "      <td>3.303750</td>\n",
       "      <td>1.927869</td>\n",
       "      <td>0.845428</td>\n",
       "      <td>175.066301</td>\n",
       "      <td>2.731619</td>\n",
       "      <td>1.872444</td>\n",
       "      <td>3.113330</td>\n",
       "      <td>3.282041</td>\n",
       "      <td>3.192030</td>\n",
       "      <td>...</td>\n",
       "      <td>972.448882</td>\n",
       "      <td>975.656704</td>\n",
       "      <td>981.714609</td>\n",
       "      <td>984.377969</td>\n",
       "      <td>992.571087</td>\n",
       "      <td>993.530497</td>\n",
       "      <td>998.310928</td>\n",
       "      <td>998.452188</td>\n",
       "      <td>0.983903</td>\n",
       "      <td>1.009615</td>\n",
       "    </tr>\n",
       "    <tr>\n",
       "      <th>std</th>\n",
       "      <td>1.293381</td>\n",
       "      <td>10.713382</td>\n",
       "      <td>10.779928</td>\n",
       "      <td>0.477276</td>\n",
       "      <td>374.426546</td>\n",
       "      <td>2.078630</td>\n",
       "      <td>1.663620</td>\n",
       "      <td>1.866408</td>\n",
       "      <td>1.788788</td>\n",
       "      <td>1.775506</td>\n",
       "      <td>...</td>\n",
       "      <td>159.714176</td>\n",
       "      <td>143.844743</td>\n",
       "      <td>128.708975</td>\n",
       "      <td>114.253166</td>\n",
       "      <td>78.964332</td>\n",
       "      <td>70.252286</td>\n",
       "      <td>25.512519</td>\n",
       "      <td>22.329630</td>\n",
       "      <td>1.667225</td>\n",
       "      <td>0.403211</td>\n",
       "    </tr>\n",
       "    <tr>\n",
       "      <th>min</th>\n",
       "      <td>2.000000</td>\n",
       "      <td>0.000000</td>\n",
       "      <td>0.000000</td>\n",
       "      <td>0.000000</td>\n",
       "      <td>-18.000000</td>\n",
       "      <td>0.000000</td>\n",
       "      <td>0.000000</td>\n",
       "      <td>1.000000</td>\n",
       "      <td>1.000000</td>\n",
       "      <td>1.000000</td>\n",
       "      <td>...</td>\n",
       "      <td>0.000000</td>\n",
       "      <td>0.000000</td>\n",
       "      <td>0.000000</td>\n",
       "      <td>0.000000</td>\n",
       "      <td>0.000000</td>\n",
       "      <td>0.000000</td>\n",
       "      <td>0.000000</td>\n",
       "      <td>4.000000</td>\n",
       "      <td>0.000000</td>\n",
       "      <td>0.000000</td>\n",
       "    </tr>\n",
       "    <tr>\n",
       "      <th>25%</th>\n",
       "      <td>2.000000</td>\n",
       "      <td>1.000000</td>\n",
       "      <td>0.000000</td>\n",
       "      <td>1.000000</td>\n",
       "      <td>0.000000</td>\n",
       "      <td>2.000000</td>\n",
       "      <td>1.000000</td>\n",
       "      <td>1.000000</td>\n",
       "      <td>2.000000</td>\n",
       "      <td>2.000000</td>\n",
       "      <td>...</td>\n",
       "      <td>999.000000</td>\n",
       "      <td>999.000000</td>\n",
       "      <td>999.000000</td>\n",
       "      <td>999.000000</td>\n",
       "      <td>999.000000</td>\n",
       "      <td>999.000000</td>\n",
       "      <td>999.000000</td>\n",
       "      <td>999.000000</td>\n",
       "      <td>0.000000</td>\n",
       "      <td>1.000000</td>\n",
       "    </tr>\n",
       "    <tr>\n",
       "      <th>50%</th>\n",
       "      <td>3.000000</td>\n",
       "      <td>2.000000</td>\n",
       "      <td>0.000000</td>\n",
       "      <td>1.000000</td>\n",
       "      <td>0.000000</td>\n",
       "      <td>3.000000</td>\n",
       "      <td>2.000000</td>\n",
       "      <td>3.000000</td>\n",
       "      <td>3.000000</td>\n",
       "      <td>3.000000</td>\n",
       "      <td>...</td>\n",
       "      <td>999.000000</td>\n",
       "      <td>999.000000</td>\n",
       "      <td>999.000000</td>\n",
       "      <td>999.000000</td>\n",
       "      <td>999.000000</td>\n",
       "      <td>999.000000</td>\n",
       "      <td>999.000000</td>\n",
       "      <td>999.000000</td>\n",
       "      <td>0.000000</td>\n",
       "      <td>1.000000</td>\n",
       "    </tr>\n",
       "    <tr>\n",
       "      <th>75%</th>\n",
       "      <td>4.000000</td>\n",
       "      <td>4.000000</td>\n",
       "      <td>1.000000</td>\n",
       "      <td>1.000000</td>\n",
       "      <td>6.000000</td>\n",
       "      <td>4.000000</td>\n",
       "      <td>3.000000</td>\n",
       "      <td>4.000000</td>\n",
       "      <td>4.000000</td>\n",
       "      <td>3.000000</td>\n",
       "      <td>...</td>\n",
       "      <td>999.000000</td>\n",
       "      <td>999.000000</td>\n",
       "      <td>999.000000</td>\n",
       "      <td>999.000000</td>\n",
       "      <td>999.000000</td>\n",
       "      <td>999.000000</td>\n",
       "      <td>999.000000</td>\n",
       "      <td>999.000000</td>\n",
       "      <td>1.000000</td>\n",
       "      <td>1.000000</td>\n",
       "    </tr>\n",
       "    <tr>\n",
       "      <th>max</th>\n",
       "      <td>9.000000</td>\n",
       "      <td>99.000000</td>\n",
       "      <td>99.000000</td>\n",
       "      <td>9.000000</td>\n",
       "      <td>999.000000</td>\n",
       "      <td>9.000000</td>\n",
       "      <td>9.000000</td>\n",
       "      <td>9.000000</td>\n",
       "      <td>9.000000</td>\n",
       "      <td>9.000000</td>\n",
       "      <td>...</td>\n",
       "      <td>999.000000</td>\n",
       "      <td>999.000000</td>\n",
       "      <td>999.000000</td>\n",
       "      <td>999.000000</td>\n",
       "      <td>999.000000</td>\n",
       "      <td>999.000000</td>\n",
       "      <td>999.000000</td>\n",
       "      <td>999.000000</td>\n",
       "      <td>9.000000</td>\n",
       "      <td>9.000000</td>\n",
       "    </tr>\n",
       "  </tbody>\n",
       "</table>\n",
       "<p>8 rows × 63 columns</p>\n",
       "</div>"
      ],
      "text/plain": [
       "       Defendant_AgeGroup  Defendant_AttorneyTypeAtCaseClosure  \\\n",
       "count        22986.000000                         22986.000000   \n",
       "mean             3.391543                             3.303750   \n",
       "std              1.293381                            10.713382   \n",
       "min              2.000000                             0.000000   \n",
       "25%              2.000000                             1.000000   \n",
       "50%              3.000000                             2.000000   \n",
       "75%              4.000000                             4.000000   \n",
       "max              9.000000                            99.000000   \n",
       "\n",
       "       Defendant_IndigencyStatus  WhetherDefendantWasReleasedPretrial  \\\n",
       "count               22986.000000                         22986.000000   \n",
       "mean                    1.927869                             0.845428   \n",
       "std                    10.779928                             0.477276   \n",
       "min                     0.000000                             0.000000   \n",
       "25%                     0.000000                             1.000000   \n",
       "50%                     0.000000                             1.000000   \n",
       "75%                     1.000000                             1.000000   \n",
       "max                    99.000000                             9.000000   \n",
       "\n",
       "       DaysBetweenContactEventAndPretrialRelease  PretrialReleaseType1  \\\n",
       "count                               22986.000000          22986.000000   \n",
       "mean                                  175.066301              2.731619   \n",
       "std                                   374.426546              2.078630   \n",
       "min                                   -18.000000              0.000000   \n",
       "25%                                     0.000000              2.000000   \n",
       "50%                                     0.000000              3.000000   \n",
       "75%                                     6.000000              4.000000   \n",
       "max                                   999.000000              9.000000   \n",
       "\n",
       "       PretrialReleaseType2  BondTypeAtInitialContact  BondTypeAtRelease_v1  \\\n",
       "count          22986.000000              22986.000000          22986.000000   \n",
       "mean               1.872444                  3.113330              3.282041   \n",
       "std                1.663620                  1.866408              1.788788   \n",
       "min                0.000000                  1.000000              1.000000   \n",
       "25%                1.000000                  1.000000              2.000000   \n",
       "50%                2.000000                  3.000000              3.000000   \n",
       "75%                3.000000                  4.000000              4.000000   \n",
       "max                9.000000                  9.000000              9.000000   \n",
       "\n",
       "       BondTypeatRelease_v2  ...  \\\n",
       "count          22986.000000  ...   \n",
       "mean               3.192030  ...   \n",
       "std                1.775506  ...   \n",
       "min                1.000000  ...   \n",
       "25%                2.000000  ...   \n",
       "50%                3.000000  ...   \n",
       "75%                3.000000  ...   \n",
       "max                9.000000  ...   \n",
       "\n",
       "       NewPSAViolentMisdArrest_DaysBetweenOffDateandArrestDate  \\\n",
       "count                                       22986.000000         \n",
       "mean                                          972.448882         \n",
       "std                                           159.714176         \n",
       "min                                             0.000000         \n",
       "25%                                           999.000000         \n",
       "50%                                           999.000000         \n",
       "75%                                           999.000000         \n",
       "max                                           999.000000         \n",
       "\n",
       "       NewPSAViolentMisdArrest_DaysBetweenReleaseDateandOffDate  \\\n",
       "count                                       22986.000000          \n",
       "mean                                          975.656704          \n",
       "std                                           143.844743          \n",
       "min                                             0.000000          \n",
       "25%                                           999.000000          \n",
       "50%                                           999.000000          \n",
       "75%                                           999.000000          \n",
       "max                                           999.000000          \n",
       "\n",
       "       NewVaCode805ViolentOff_DaysBetweenOffDateandArrestDate  \\\n",
       "count                                       22986.000000        \n",
       "mean                                          981.714609        \n",
       "std                                           128.708975        \n",
       "min                                             0.000000        \n",
       "25%                                           999.000000        \n",
       "50%                                           999.000000        \n",
       "75%                                           999.000000        \n",
       "max                                           999.000000        \n",
       "\n",
       "       NewVaCode805ViolentOff_DaysBetweenReleaseDateandOffDate  \\\n",
       "count                                       22986.000000         \n",
       "mean                                          984.377969         \n",
       "std                                           114.253166         \n",
       "min                                             0.000000         \n",
       "25%                                           999.000000         \n",
       "50%                                           999.000000         \n",
       "75%                                           999.000000         \n",
       "max                                           999.000000         \n",
       "\n",
       "       NewVaCode297ViolentOff_DaysBetweenOffDateandArrestDate  \\\n",
       "count                                       22986.000000        \n",
       "mean                                          992.571087        \n",
       "std                                            78.964332        \n",
       "min                                             0.000000        \n",
       "25%                                           999.000000        \n",
       "50%                                           999.000000        \n",
       "75%                                           999.000000        \n",
       "max                                           999.000000        \n",
       "\n",
       "       NewVaCode297ViolentOff_DaysBetweenReleaseDateandOffDate  \\\n",
       "count                                       22986.000000         \n",
       "mean                                          993.530497         \n",
       "std                                            70.252286         \n",
       "min                                             0.000000         \n",
       "25%                                           999.000000         \n",
       "50%                                           999.000000         \n",
       "75%                                           999.000000         \n",
       "max                                           999.000000         \n",
       "\n",
       "       NewFelonySexualAssaultArrest_DaysBetweenOffDateandArrestDate  \\\n",
       "count                                       22986.000000              \n",
       "mean                                          998.310928              \n",
       "std                                            25.512519              \n",
       "min                                             0.000000              \n",
       "25%                                           999.000000              \n",
       "50%                                           999.000000              \n",
       "75%                                           999.000000              \n",
       "max                                           999.000000              \n",
       "\n",
       "       NewFelonySexualAssaultArrest_DaysBetweenReleaseDateandOffDate  \\\n",
       "count                                       22986.000000               \n",
       "mean                                          998.452188               \n",
       "std                                            22.329630               \n",
       "min                                             4.000000               \n",
       "25%                                           999.000000               \n",
       "50%                                           999.000000               \n",
       "75%                                           999.000000               \n",
       "max                                           999.000000               \n",
       "\n",
       "       Intertnalindicator_ReasonforExcludingFromFollowUpAnalysis  \\\n",
       "count                                       22986.000000           \n",
       "mean                                            0.983903           \n",
       "std                                             1.667225           \n",
       "min                                             0.000000           \n",
       "25%                                             0.000000           \n",
       "50%                                             0.000000           \n",
       "75%                                             1.000000           \n",
       "max                                             9.000000           \n",
       "\n",
       "       DispRecordFoundforChargesinOct2017Contact_Atleast1dispfound  \n",
       "count                                       22986.000000            \n",
       "mean                                            1.009615            \n",
       "std                                             0.403211            \n",
       "min                                             0.000000            \n",
       "25%                                             1.000000            \n",
       "50%                                             1.000000            \n",
       "75%                                             1.000000            \n",
       "max                                             9.000000            \n",
       "\n",
       "[8 rows x 63 columns]"
      ]
     },
     "execution_count": 86,
     "metadata": {},
     "output_type": "execute_result"
    }
   ],
   "source": [
    "df_pretrial.describe()"
   ]
  },
  {
   "cell_type": "code",
   "execution_count": 87,
   "id": "87b2e0bf",
   "metadata": {},
   "outputs": [
    {
     "data": {
      "text/plain": [
       "0        9\n",
       "1        0\n",
       "2        0\n",
       "3        0\n",
       "4        1\n",
       "        ..\n",
       "22981    1\n",
       "22982    1\n",
       "22983    1\n",
       "22984    1\n",
       "22985    1\n",
       "Name: WhetherDefendantWasReleasedPretrial, Length: 22986, dtype: int64"
      ]
     },
     "execution_count": 87,
     "metadata": {},
     "output_type": "execute_result"
    }
   ],
   "source": [
    "df_pretrial['WhetherDefendantWasReleasedPretrial']"
   ]
  },
  {
   "cell_type": "code",
   "execution_count": 89,
   "id": "763e1396",
   "metadata": {},
   "outputs": [],
   "source": [
    "import numpy as np"
   ]
  },
  {
   "cell_type": "code",
   "execution_count": 97,
   "id": "37bb4804",
   "metadata": {},
   "outputs": [],
   "source": [
    "# Replace None with NaN using fillna()\n",
    "df_pretrial = df_pretrial.fillna(value=np.nan)"
   ]
  },
  {
   "cell_type": "code",
   "execution_count": 98,
   "id": "de70178d",
   "metadata": {},
   "outputs": [],
   "source": [
    "# Replace 9 values with NaN using replace()\n",
    "df_pretrial.replace(to_replace=9, value=np.nan, inplace=True)"
   ]
  },
  {
   "cell_type": "code",
   "execution_count": 117,
   "id": "d5fa2d42",
   "metadata": {},
   "outputs": [
    {
     "name": "stdout",
     "output_type": "stream",
     "text": [
      "There are 31 missing values in this column\n"
     ]
    }
   ],
   "source": [
    "missing = sum(df_pretrial['WhetherDefendantWasReleasedPretrial'].isnull())\n",
    "print(f\"There are {missing} missing values in this column\")"
   ]
  },
  {
   "cell_type": "markdown",
   "id": "dffcdb54",
   "metadata": {},
   "source": [
    "***4.) clean the ImposedSentenceAllChargeInContactEvent***"
   ]
  },
  {
   "cell_type": "code",
   "execution_count": 119,
   "id": "05dfd0e7",
   "metadata": {},
   "outputs": [
    {
     "data": {
      "text/plain": [
       "array([' ', '60', '12', '.985626283367556', '36', '6', '24',\n",
       "       '5.91375770020534', '120', '72', '11.9917864476386', '0',\n",
       "       '2.95687885010267', '84', '108', '300', '240', '180', '4', '96',\n",
       "       '2', '54', '.328542094455852', '44', '5', '115', '132', '48',\n",
       "       '258', '34', '76', '.164271047227926', '.131416837782341', '111',\n",
       "       '9', '3', '1.97125256673511', '36.9856262833676',\n",
       "       '.0657084188911704', '35.4928131416838', '106.492813141684', '8',\n",
       "       '35', '18.3141683778234', '480', '32', '93', '234', '732',\n",
       "       '1.16427104722793', '4.6570841889117', '21', '7',\n",
       "       '4.49281314168378', '18', '600', '43.1642710472279', '179', '52',\n",
       "       '30', '20', '192', '702', '14', '55', '53', '11.9055441478439',\n",
       "       '114', '35.0061601642711', '68', '.657084188911704',\n",
       "       '46.6242299794661', '102', '65', '200', '57', '24.3285420944559',\n",
       "       '12.1642710472279', '117', '81.4928131416838', '22.4928131416838',\n",
       "       '1980', '3.6570841889117', '56', '10', '2.79260780287474', '1',\n",
       "       '47', '22', '1500', '40', '284', '11', '118', '42', '162', '156',\n",
       "       '47.2956878850103', '105', '51', '246', '29', '75', '324', '360',\n",
       "       '34.4804928131417', '120.328542094456', '59.9260780287474', '66',\n",
       "       '59.9917864476386', '660', '51.1642710472279', '14.9568788501027',\n",
       "       '3.98562628336756', '78', '228', '1.47843942505133', '62', '4.8',\n",
       "       '86', '168', '23', '33', '48.0328542094456', '720', '348', '1200',\n",
       "       '27', '49', '87', '420', '63', '79.9260780287474',\n",
       "       '57.0349075975359', '49.9712525667351', '59.4928131416838', '17',\n",
       "       '238.492813141684', '60.9856262833676', '126', '45', '158', '216',\n",
       "       '227', '42.9568788501027', '445', '70.952772073922', '516',\n",
       "       '177.82135523614', '1752', '90', '1080', '141', '4.82956878850103',\n",
       "       '230', '31', '2208', '52.5133470225873', '69', '26',\n",
       "       '33.4928131416838', '140', '131', '344', '219', '101', '71', '59',\n",
       "       '58', '120.197125256674', '67', '35.4004106776181',\n",
       "       '3.28542094455852', '40.1642710472279', '91', '1.7741273100616',\n",
       "       '155', '34.4928131416838', '81', '92.3285420944559',\n",
       "       '3.5482546201232', '207', '74', '518', '28', '8.95687885010267',\n",
       "       '237', '404.673511293634', '18.1642710472279', '10.7433264887064',\n",
       "       '551', '39', '15', '124', '43', '176', '19.4928131416838', '482',\n",
       "       '129', '88', '46', '45.8542094455852', '128.628336755647',\n",
       "       '136.492813141684', '108.328542094456', '50', '363.663244353183',\n",
       "       '288', '250', '107', '81.0225872689938', '444', '205',\n",
       "       '10.6570841889117', '19', '66.9856262833676', '38.4928131416838',\n",
       "       '264', '276', '173', '222', '144', '294', '336', '431', '450',\n",
       "       '73', '99.3285420944559', '128', '30.8069815195072',\n",
       "       '31.5256673511294', '127', '202', '55.3285420944559', '89', '242',\n",
       "       '1.31416837782341', '1029', '.788501026694045', '194.858316221766',\n",
       "       '399', '39.6570841889117', '56.95687885', '198',\n",
       "       '120.985626283368', '47.6570841889117', '148', '6.8993839835729',\n",
       "       '65.3285420944559', '5.95277207392197', '.0985626283367557',\n",
       "       '3.32854209445585', '3.94250513347023', '12.9856262833676',\n",
       "       '6.98562628336756', '13.1498973305955', '15.1642710472279',\n",
       "       '17.1971252566735', '17.9137577002053', '104', '212',\n",
       "       '24.6570841889117', '72.6570841889117', '2.98562628336756',\n",
       "       '144.985626283368', '31.9712525667351', '183', '4.98562628336756',\n",
       "       '11.8213552361396', '252', '12.394250513347', '42.4928131416838',\n",
       "       '10.1642710472279', '11.1642710472279', '5.49281314168378',\n",
       "       '59.6632443531827', '12.3285420944559', '48.9856262833676',\n",
       "       '240.985626283368', '2.6570841889117', '540', '2.97125256673511',\n",
       "       '6.32854209445585', '23.6632443531828', '133.657084188912',\n",
       "       '35.3285420944559', '456', '103', '1.72279260780287',\n",
       "       '12.6570841889117', '11.6570841889117', '60.3285420944559',\n",
       "       '3.78850102669405', '576', '2.13141683778234', '492',\n",
       "       '14.9856262833676', '24.9856262833676', '61.9712525667351',\n",
       "       '5.6570841889117', '16', '42.1642710472279', '.492813141683778',\n",
       "       '138', '13.3141683778234', '11.8932238193018', '5.32854209445585',\n",
       "       '95', '62.6570841889117', '3.08829568788501', '11.8275154004107',\n",
       "       '1.64271047227926', '47.9917864476386', '4.27104722792608',\n",
       "       '8.32854209445585', '3.31416837782341', '70', '77',\n",
       "       '1.09856262833676', '48.1642710472279', '27.4928131416838',\n",
       "       '6.93839835728953', '1011', '.68993839835729', '1.1170431211499',\n",
       "       '1.49281314168378', '4.16427104722793', '1.19712525667351',\n",
       "       '4.07392197125257', '188', '11.3285420944559', '.0328542094455852',\n",
       "       '432', '11.952772073922', '36.4928131416838', '23.9835728952772',\n",
       "       '9.98562628336756', '98', '36.3285420944559', '112',\n",
       "       '.394250513347023', '13', '.262833675564682', '13.7987679671458',\n",
       "       '5.8870636550308', '354', '5.91991786447639', '24.1642710472279',\n",
       "       '62.95687885', '4.59958932238193', '123', '2.32854209445585',\n",
       "       '23.9240246406571', '204', '197', '174', '16.1498973305955', '840',\n",
       "       '440', '98.95687885', '17.952772073922', '63.9425051334702',\n",
       "       '60.1314168377823', '12.1314168377823', '172.952772073922',\n",
       "       '.197125256673511', '138.164271047228', '4.92813141683778',\n",
       "       '.919917864476386', '18.9856262833676', '6.6570841889117',\n",
       "       '2.85420944558522', '8.91375770020534', '146', '12.4928131416838',\n",
       "       '.558521560574949', '.722792607802875', '5.82135523613963',\n",
       "       '84.9856262833676', '6.16427104722793', '15.9856262833676',\n",
       "       '64.5585215605749', '38.299794661191', '11.958932238193',\n",
       "       '3.1211498973306', '126.328542094456', '5.16427104722793', '64',\n",
       "       '42.6570841889117', '312', '19.9712525667351', '82.3285420944559',\n",
       "       '23.9712525667351', '17.6242299794661', '121.971252566735',\n",
       "       '59.6550308008214', '1.32854209445585', '7.97125256673511',\n",
       "       '1.91991786447639', '.525667351129363', '9.32854209445585',\n",
       "       '42.9856262833676', '41.9137577002053', '72.9856262833676',\n",
       "       '12.4784394250513', '5.19096509240246', '473', '16.6570841889117',\n",
       "       '109', '86.3285420944559', '41', '1.90554414784394',\n",
       "       '94.1642710472279', '302', '4.39425051334702', '10.8213552361396',\n",
       "       '18.3285420944559', '154', '83', '110.956878850103', '226',\n",
       "       '96.0328542094456', '4.82135523613963', '30.3285420944559',\n",
       "       '37.9712525667351', '50.4640657084189', '286', '99',\n",
       "       '99.4928131416838', '2.6611909650924', '70.9712525667351',\n",
       "       '13.9712525667351', '23.6570841889117', '.459958932238193',\n",
       "       '132.492813141684', '283', '49.3141683778234', '27.9856262833676',\n",
       "       '38', '7.6570841889117', '83.6550308008214', '10.9199178644764',\n",
       "       '162.328542094456', '37', '132.328542094456', '35.952772073922',\n",
       "       '165', '10.9856262833676', '20.1642710472279', '2.59137577002053',\n",
       "       '175', '180.985626283368', '10.3285420944559', '36.1642710472279',\n",
       "       '120.657084188912', '232', '152', '8.98562628336756', '167',\n",
       "       '11.0657084188912', '11.2032854209446', '5.19712525667351',\n",
       "       '3.16427104722793', '60.1642710472279', '1.18275154004107',\n",
       "       '21.1642710472279', '2.19712525667351', '4.19712525667351',\n",
       "       '2.62833675564682', '119.952772073922', '119.958932238193',\n",
       "       '9.49281314168378', '5.25667351129363', '15.3285420944559',\n",
       "       '2.82135523613963', '192.985626283368', '48.6570841889117',\n",
       "       '5.95687885010267', '2.29979466119097', '960', '2.36550308008214',\n",
       "       '116', '19.5133470225873', '1.6570841889117'], dtype=object)"
      ]
     },
     "execution_count": 119,
     "metadata": {},
     "output_type": "execute_result"
    }
   ],
   "source": [
    "df_pretrial['ImposedSentenceAllChargeInContactEvent'].unique()"
   ]
  },
  {
   "cell_type": "code",
   "execution_count": 120,
   "id": "f522319b",
   "metadata": {},
   "outputs": [
    {
     "name": "stdout",
     "output_type": "stream",
     "text": [
      "9053 \n",
      "\n"
     ]
    }
   ],
   "source": [
    "df_pretrial['ImposedSentenceAllChargeInContactEvent'] = pd.to_numeric(df_pretrial['ImposedSentenceAllChargeInContactEvent'],errors='coerce') # Coerce to numeric\n",
    "length_NA = df_pretrial['ImposedSentenceAllChargeInContactEvent'].isnull() # Create a missing dummy\n",
    "print( np.sum(length_NA),'\\n')"
   ]
  },
  {
   "cell_type": "code",
   "execution_count": 121,
   "id": "ab4d5b0d",
   "metadata": {},
   "outputs": [
    {
     "name": "stdout",
     "output_type": "stream",
     "text": [
      "col_0                                   <class 'type'>\n",
      "ImposedSentenceAllChargeInContactEvent                \n",
      "False                                            13933\n",
      "True                                              9053 \n",
      "\n"
     ]
    }
   ],
   "source": [
    "print( pd.crosstab(length_NA, type), '\\n') # Category 4 is cases where the charges were dismissed"
   ]
  },
  {
   "cell_type": "code",
   "execution_count": 125,
   "id": "253dd663",
   "metadata": {},
   "outputs": [],
   "source": [
    "df_pretrial['ImposedSentenceAllChargeInContactEvent'].replace(to_replace=4, value=0, inplace=True)\n",
    "df_pretrial['ImposedSentenceAllChargeInContactEvent'].replace(to_replace=9, value=np.nan, inplace=True)"
   ]
  },
  {
   "cell_type": "code",
   "execution_count": 126,
   "id": "fb738942",
   "metadata": {},
   "outputs": [
    {
     "name": "stdout",
     "output_type": "stream",
     "text": [
      "col_0                                   <class 'type'>\n",
      "ImposedSentenceAllChargeInContactEvent                \n",
      "0.000000                                          5047\n",
      "0.032854                                             6\n",
      "0.065708                                            24\n",
      "0.098563                                             8\n",
      "0.131417                                            14\n",
      "...                                                ...\n",
      "1200.000000                                          1\n",
      "1500.000000                                          1\n",
      "1752.000000                                          1\n",
      "1980.000000                                          1\n",
      "2208.000000                                          1\n",
      "\n",
      "[481 rows x 1 columns] \n",
      "\n",
      "276409.11622176546 \n",
      "\n"
     ]
    }
   ],
   "source": [
    "length_NA = df_pretrial['ImposedSentenceAllChargeInContactEvent'].isnull() # Create a new missing dummy\n",
    "print( pd.crosstab(df_pretrial['ImposedSentenceAllChargeInContactEvent'], type), '\\n')\n",
    "print( np.sum(df_pretrial['ImposedSentenceAllChargeInContactEvent']),'\\n') # 274 missing, much better"
   ]
  },
  {
   "cell_type": "markdown",
   "id": "649494cd-cfd6-4f80-992a-9994fc19e1d5",
   "metadata": {
    "id": "649494cd-cfd6-4f80-992a-9994fc19e1d5"
   },
   "source": [
    "**Q3.** Many important datasets contain a race variable, typically limited to a handful of values often including Black, White, Asian, Latino, and Indigenous. This question looks at data gathering efforts on this variable by the U.S. Federal government.\n",
    "\n",
    "1. How did the most recent US Census gather data on race?\n",
    "2. Why do we gather these data? What role do these kinds of data play in politics and society? Why does data quality matter?\n",
    "3. Please provide a constructive criticism of how the Census was conducted: What was done well? What do you think was missing? How should future large scale surveys be adjusted to best reflect the diversity of the population? Could some of the Census' good practices be adopted more widely to gather richer and more useful data?\n",
    "4. How did the Census gather data on sex and gender? Please provide a similar constructive criticism of their practices.\n",
    "5. When it comes to cleaning data, what concerns do you have about protected characteristics like sex, gender, sexual identity, or race? What challenges can you imagine arising when there are missing values? What good or bad practices might people adopt, and why?\n",
    "6. Suppose someone invented an algorithm to impute values for protected characteristics like race, gender, sex, or sexuality. What kinds of concerns would you have?"
   ]
  },
  {
   "cell_type": "markdown",
   "id": "8740e949",
   "metadata": {},
   "source": [
    "***1.) How did the most recent US Census gather data on race?***\n",
    "The census gathered data on race through a self-selection process. It asked two questions regarding race and ethnicity in which people self-selected themselves into one of the options.\n",
    "\n",
    "***2.) Why do we gather these data? What role do these kinds of data play in politics and society? Why does data quality matter?***\n",
    "This data maters because it helps us understand the demographic makeu of the country. In turn, this helps make policy decisions because politicians must understand the societal makeup of the country. Therefore, the quality of the data is important because if it is wrong, then politicians will be making decisions on the wrong information, potentially leading to incorrect decisions.\n",
    "\n",
    "***3.) Please provide a constructive criticism of how the Census was conducted: What was done well? What do you think was missing? How should future large scale surveys be adjusted to best reflect the diversity of the population? Could some of the Census' good practices be adopted more widely to gather richer and more useful data?***\n",
    "One thing that the census did not do well was to allow the participants to self-select themselves into a race without any check. Therefore, people could incorrectly select their own race without it being confirmed. \n",
    "\n",
    "***4.) How did the Census gather data on sex and gender? Please provide a similar constructive criticism of their practices.***\n",
    "Similar to race, the Census allowed people to self select their own sex and gender. Again, this creates problems with self selection without authentification. However, with a category as vague and fluid as race, this can also be a benefit in that people are more likely to give a truthful answer if they do not feel pressured.\n",
    "\n",
    "***5.) When it comes to cleaning data, what concerns do you have about protected characteristics like sex, gender, sexual identity, or race? What challenges can you imagine arising when there are missing values? What good or bad practices might people adopt, and why***\n",
    "\n",
    "Some of the challenges that may arise when dealing with protected characteristics include: misidentifying people's race or gender/sex, which may offend people or incorrectly track data, Overly generalizing sex/race (not having enough options) which may make people feel unincluded, etc. Furthermore, when you encounter missing values, it can be hard to set a default because this could, again, misgender or misidentify somebody leading to them feeling misrepresented.\n",
    "\n",
    "***6.) Suppose someone invented an algorithm to impute values for protected characteristics like race, gender, sex, or sexuality. What kinds of concerns would you have?***\n",
    "\n",
    "I would mostly be worried about my algorithm misgendering or misindetifying somebody because it may offend them. Furthermore, I would be worried that my algorithm may take racial or gender stereotypes and continue to push them, which would be a bad use of data."
   ]
  }
 ],
 "metadata": {
  "colab": {
   "provenance": []
  },
  "kernelspec": {
   "display_name": "Python 3",
   "language": "python",
   "name": "python3"
  },
  "language_info": {
   "codemirror_mode": {
    "name": "ipython",
    "version": 3
   },
   "file_extension": ".py",
   "mimetype": "text/x-python",
   "name": "python",
   "nbconvert_exporter": "python",
   "pygments_lexer": "ipython3",
   "version": "3.8.8"
  }
 },
 "nbformat": 4,
 "nbformat_minor": 5
}
